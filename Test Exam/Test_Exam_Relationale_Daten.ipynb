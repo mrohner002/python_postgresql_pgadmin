{
 "cells": [
  {
   "cell_type": "markdown",
   "id": "4cf56921",
   "metadata": {},
   "source": [
    "# Test Exam: Management & Nutzung Relationale Daten"
   ]
  },
  {
   "cell_type": "markdown",
   "id": "0f7fb22f",
   "metadata": {},
   "source": [
    "### Persönliche Angaben (bitte ergänzen)"
   ]
  },
  {
   "cell_type": "markdown",
   "id": "94d35a25",
   "metadata": {},
   "source": [
    "<table>\n",
    "  <tr>\n",
    "    <td>Vorname:</td>\n",
    "    <td>Martin</td>\n",
    "  </tr>\n",
    "  <tr>\n",
    "    <td>Nachname:</td>\n",
    "    <td>Rohner</td>\n",
    "  </tr>\n",
    "  <tr>\n",
    "    <td>Immatrikulationsnummer:</td>\n",
    "    <td></td>\n",
    "  </tr>\n",
    "  <tr>\n",
    "    <td>Modul:</td>\n",
    "    <td>Data Science</td>\n",
    "  </tr>\n",
    "  <tr>\n",
    "    <td>Prüfungsdatum / Raum / Zeit:</td>\n",
    "    <td>07.10.2024 / Raum: SF O3.54 / 8:00 – 11:45</td>\n",
    "  </tr>\n",
    "  <tr>\n",
    "    <td>Hilfsmittel:</td>\n",
    "    <td>w.MA.XX.DS.24HS (Data Science)<br>Open Book, Eigener Computer, Internet-Zugang</td>\n",
    "  </tr>\n",
    "</table>"
   ]
  },
  {
   "cell_type": "markdown",
   "id": "61847f62",
   "metadata": {},
   "source": [
    "## Bewertungskriterien\n",
    "\n",
    "### <b style=\"color: gray;\">(max. erreichbare Punkte: 44)</b>\n",
    "\n",
    "<table>\n",
    "  <thead>\n",
    "    <tr>\n",
    "      <th>Kategorie</th>\n",
    "      <th>Beschreibung</th>\n",
    "      <th>Punkteverteilung</th>\n",
    "    </tr>\n",
    "  </thead>\n",
    "  <tbody>\n",
    "    <tr>\n",
    "      <td>Code nicht lauffähig oder Ergebnisse nicht sinnvoll</td>\n",
    "      <td>Der Code enthält Fehler, die verhindern, dass er ausgeführt werden kann (z.B. Syntaxfehler) oder es werden Ergebnisse ausgegeben, welche nicht zur Fragestellung passen.</td>\n",
    "      <td>0 Punkte</td>\n",
    "    </tr>\n",
    "    <tr>\n",
    "      <td>Code lauffähig, aber mit gravierenden Mängeln</td>\n",
    "      <td>Der Code läuft, aber die Ergebnisse sind aufgrund wesentlicher Fehler unvollständig (z.B. fehlende Joins, gravierende Fehler in SQL-Abfragen). Nur geringer Fortschritt erkennbar.</td>\n",
    "      <td>25% der max. erreichbaren Punkte</td>\n",
    "    </tr>\n",
    "    <tr>\n",
    "      <td>Code lauffähig, aber mit mittleren Mängeln</td>\n",
    "      <td>Der Code läuft und liefert teilweise korrekte Ergebnisse, aber es gibt grössere Fehler (z.B. fehlende Spalten, unvollständige SQL-Abfragen). Die Ergebnisse sind nachvollziehbar, aber unvollständig oder ungenau.</td>\n",
    "      <td>50% der max. erreichbaren Punkte</td>\n",
    "    </tr>\n",
    "    <tr>\n",
    "      <td>Code lauffähig, aber mit minimalen Mängeln</td>\n",
    "      <td>Der Code läuft und liefert ein weitgehend korrektes Ergebnis, aber kleinere Fehler (z.B. falsche oder fehlende Sortierung, Rundung von Werten falsch) beeinträchtigen die Vollständigkeit des Ergebnisses.</td>\n",
    "      <td>75% der max. erreichbaren Punkte</td>\n",
    "    </tr>\n",
    "    <tr>\n",
    "      <td>Code lauffähig und korrekt</td>\n",
    "      <td>Der Code läuft einwandfrei und liefert das korrekte Ergebnis ohne Mängel.</td>\n",
    "      <td>100% der max. erreichbaren Punkte</td>\n",
    "    </tr>\n",
    "  </tbody>\n",
    "</table>\n",
    "\n"
   ]
  },
  {
   "cell_type": "markdown",
   "id": "9b8df3dd",
   "metadata": {},
   "source": [
    "## Python Libraries und Settings"
   ]
  },
  {
   "cell_type": "code",
   "execution_count": 1,
   "id": "b027d889",
   "metadata": {},
   "outputs": [
    {
     "name": "stdout",
     "output_type": "stream",
     "text": [
      "/workspace/Test Exam\n"
     ]
    }
   ],
   "source": [
    "# Libraries\n",
    "import os\n",
    "import sqlite3\n",
    "import pandas as pd\n",
    "from sqlalchemy import create_engine, text\n",
    "\n",
    "# Settings\n",
    "import warnings\n",
    "warnings.filterwarnings(\"ignore\")\n",
    "\n",
    "# Working directory\n",
    "print(os.getcwd())"
   ]
  },
  {
   "cell_type": "markdown",
   "id": "aac9011e",
   "metadata": {},
   "source": [
    "## <b>Vorbereitung (Hinweis: dieser Teil wird nicht bewertet)</b>"
   ]
  },
  {
   "cell_type": "markdown",
   "id": "2e253f40",
   "metadata": {},
   "source": [
    "#### <b>1.) Starten Sie eine GitHub Codespaces Instanz auf Basis Ihres Forks des folgenden GitHub Repositories:</b>\n",
    "\n",
    "##### GitHub-Repository: https://github.com/mario-gellrich-zhaw/python_postgresql_pgadmin\n"
   ]
  },
  {
   "cell_type": "markdown",
   "id": "a2442005",
   "metadata": {},
   "source": [
    "#### <b>2.) Erstellen und Testen Sie die Datenbankverbindung mit der 'postgres' Datenbank.</b>"
   ]
  },
  {
   "cell_type": "code",
   "execution_count": 2,
   "id": "36ca64be",
   "metadata": {},
   "outputs": [
    {
     "name": "stdout",
     "output_type": "stream",
     "text": [
      "('postgres',)\n"
     ]
    }
   ],
   "source": [
    "# Set up für Datenbankverbindung\n",
    "user = \"pgadmin\"\n",
    "password = \"geheim\"\n",
    "host = \"localhost\"\n",
    "port = \"5432\"\n",
    "database = \"postgres\"\n",
    "\n",
    "# Erstellen der Connection URL\n",
    "db_connection_url = \"postgresql://\" + user + \":\" + password +\\\n",
    "                    \"@\" + host + \":\" + port + \"/\" + database\n",
    "\n",
    "# Erstellen SQLAlchemy Engine\n",
    "engine = create_engine(db_connection_url)\n",
    "\n",
    "# Test der Datenbankverbindung\n",
    "with engine.connect() as connection:\n",
    "    result = connection.execute(text('SELECT current_database()'))\n",
    "    print(result.fetchone())\n",
    "\n",
    "# Verbindung trennen\n",
    "engine.dispose()"
   ]
  },
  {
   "cell_type": "markdown",
   "id": "53f4b234",
   "metadata": {},
   "source": [
    "#### <b>3.) Lesen Sie die Tabellenblätter aus 'smartphone_dealer_data.xlsx' ein, und speichern Sie diese in separaten DataFrames.</b>"
   ]
  },
  {
   "cell_type": "code",
   "execution_count": 3,
   "id": "ef32ffa2-1859-48af-a78c-0f1b5748fc98",
   "metadata": {},
   "outputs": [
    {
     "ename": "FileNotFoundError",
     "evalue": "[Errno 2] No such file or directory: 'workspace/Data/smartphone_dealer_data.xlsx'",
     "output_type": "error",
     "traceback": [
      "\u001b[0;31m---------------------------------------------------------------------------\u001b[0m",
      "\u001b[0;31mFileNotFoundError\u001b[0m                         Traceback (most recent call last)",
      "Cell \u001b[0;32mIn[3], line 5\u001b[0m\n\u001b[1;32m      2\u001b[0m path \u001b[38;5;241m=\u001b[39m \u001b[38;5;124m'\u001b[39m\u001b[38;5;124mworkspace/Data/smartphone_dealer_data.xlsx\u001b[39m\u001b[38;5;124m'\u001b[39m\n\u001b[1;32m      4\u001b[0m \u001b[38;5;66;03m# Einlesen der Daten aus Excel File\u001b[39;00m\n\u001b[0;32m----> 5\u001b[0m df_phones \u001b[38;5;241m=\u001b[39m \u001b[43mpd\u001b[49m\u001b[38;5;241;43m.\u001b[39;49m\u001b[43mread_excel\u001b[49m\u001b[43m(\u001b[49m\u001b[43mpath\u001b[49m\u001b[43m,\u001b[49m\u001b[43m \u001b[49m\u001b[43msheet_name\u001b[49m\u001b[38;5;241;43m=\u001b[39;49m\u001b[38;5;124;43m'\u001b[39;49m\u001b[38;5;124;43mPhones\u001b[39;49m\u001b[38;5;124;43m'\u001b[39;49m\u001b[43m)\u001b[49m\n\u001b[1;32m      6\u001b[0m df_customers \u001b[38;5;241m=\u001b[39m pd\u001b[38;5;241m.\u001b[39mread_excel(path, sheet_name\u001b[38;5;241m=\u001b[39m\u001b[38;5;124m'\u001b[39m\u001b[38;5;124mCustomers\u001b[39m\u001b[38;5;124m'\u001b[39m)\n\u001b[1;32m      7\u001b[0m df_sales \u001b[38;5;241m=\u001b[39m pd\u001b[38;5;241m.\u001b[39mread_excel(path, sheet_name\u001b[38;5;241m=\u001b[39m\u001b[38;5;124m'\u001b[39m\u001b[38;5;124mSales\u001b[39m\u001b[38;5;124m'\u001b[39m)\n",
      "File \u001b[0;32m/usr/local/lib/python3.11/site-packages/pandas/io/excel/_base.py:495\u001b[0m, in \u001b[0;36mread_excel\u001b[0;34m(io, sheet_name, header, names, index_col, usecols, dtype, engine, converters, true_values, false_values, skiprows, nrows, na_values, keep_default_na, na_filter, verbose, parse_dates, date_parser, date_format, thousands, decimal, comment, skipfooter, storage_options, dtype_backend, engine_kwargs)\u001b[0m\n\u001b[1;32m    493\u001b[0m \u001b[38;5;28;01mif\u001b[39;00m \u001b[38;5;129;01mnot\u001b[39;00m \u001b[38;5;28misinstance\u001b[39m(io, ExcelFile):\n\u001b[1;32m    494\u001b[0m     should_close \u001b[38;5;241m=\u001b[39m \u001b[38;5;28;01mTrue\u001b[39;00m\n\u001b[0;32m--> 495\u001b[0m     io \u001b[38;5;241m=\u001b[39m \u001b[43mExcelFile\u001b[49m\u001b[43m(\u001b[49m\n\u001b[1;32m    496\u001b[0m \u001b[43m        \u001b[49m\u001b[43mio\u001b[49m\u001b[43m,\u001b[49m\n\u001b[1;32m    497\u001b[0m \u001b[43m        \u001b[49m\u001b[43mstorage_options\u001b[49m\u001b[38;5;241;43m=\u001b[39;49m\u001b[43mstorage_options\u001b[49m\u001b[43m,\u001b[49m\n\u001b[1;32m    498\u001b[0m \u001b[43m        \u001b[49m\u001b[43mengine\u001b[49m\u001b[38;5;241;43m=\u001b[39;49m\u001b[43mengine\u001b[49m\u001b[43m,\u001b[49m\n\u001b[1;32m    499\u001b[0m \u001b[43m        \u001b[49m\u001b[43mengine_kwargs\u001b[49m\u001b[38;5;241;43m=\u001b[39;49m\u001b[43mengine_kwargs\u001b[49m\u001b[43m,\u001b[49m\n\u001b[1;32m    500\u001b[0m \u001b[43m    \u001b[49m\u001b[43m)\u001b[49m\n\u001b[1;32m    501\u001b[0m \u001b[38;5;28;01melif\u001b[39;00m engine \u001b[38;5;129;01mand\u001b[39;00m engine \u001b[38;5;241m!=\u001b[39m io\u001b[38;5;241m.\u001b[39mengine:\n\u001b[1;32m    502\u001b[0m     \u001b[38;5;28;01mraise\u001b[39;00m \u001b[38;5;167;01mValueError\u001b[39;00m(\n\u001b[1;32m    503\u001b[0m         \u001b[38;5;124m\"\u001b[39m\u001b[38;5;124mEngine should not be specified when passing \u001b[39m\u001b[38;5;124m\"\u001b[39m\n\u001b[1;32m    504\u001b[0m         \u001b[38;5;124m\"\u001b[39m\u001b[38;5;124man ExcelFile - ExcelFile already has the engine set\u001b[39m\u001b[38;5;124m\"\u001b[39m\n\u001b[1;32m    505\u001b[0m     )\n",
      "File \u001b[0;32m/usr/local/lib/python3.11/site-packages/pandas/io/excel/_base.py:1550\u001b[0m, in \u001b[0;36mExcelFile.__init__\u001b[0;34m(self, path_or_buffer, engine, storage_options, engine_kwargs)\u001b[0m\n\u001b[1;32m   1548\u001b[0m     ext \u001b[38;5;241m=\u001b[39m \u001b[38;5;124m\"\u001b[39m\u001b[38;5;124mxls\u001b[39m\u001b[38;5;124m\"\u001b[39m\n\u001b[1;32m   1549\u001b[0m \u001b[38;5;28;01melse\u001b[39;00m:\n\u001b[0;32m-> 1550\u001b[0m     ext \u001b[38;5;241m=\u001b[39m \u001b[43minspect_excel_format\u001b[49m\u001b[43m(\u001b[49m\n\u001b[1;32m   1551\u001b[0m \u001b[43m        \u001b[49m\u001b[43mcontent_or_path\u001b[49m\u001b[38;5;241;43m=\u001b[39;49m\u001b[43mpath_or_buffer\u001b[49m\u001b[43m,\u001b[49m\u001b[43m \u001b[49m\u001b[43mstorage_options\u001b[49m\u001b[38;5;241;43m=\u001b[39;49m\u001b[43mstorage_options\u001b[49m\n\u001b[1;32m   1552\u001b[0m \u001b[43m    \u001b[49m\u001b[43m)\u001b[49m\n\u001b[1;32m   1553\u001b[0m     \u001b[38;5;28;01mif\u001b[39;00m ext \u001b[38;5;129;01mis\u001b[39;00m \u001b[38;5;28;01mNone\u001b[39;00m:\n\u001b[1;32m   1554\u001b[0m         \u001b[38;5;28;01mraise\u001b[39;00m \u001b[38;5;167;01mValueError\u001b[39;00m(\n\u001b[1;32m   1555\u001b[0m             \u001b[38;5;124m\"\u001b[39m\u001b[38;5;124mExcel file format cannot be determined, you must specify \u001b[39m\u001b[38;5;124m\"\u001b[39m\n\u001b[1;32m   1556\u001b[0m             \u001b[38;5;124m\"\u001b[39m\u001b[38;5;124man engine manually.\u001b[39m\u001b[38;5;124m\"\u001b[39m\n\u001b[1;32m   1557\u001b[0m         )\n",
      "File \u001b[0;32m/usr/local/lib/python3.11/site-packages/pandas/io/excel/_base.py:1402\u001b[0m, in \u001b[0;36minspect_excel_format\u001b[0;34m(content_or_path, storage_options)\u001b[0m\n\u001b[1;32m   1399\u001b[0m \u001b[38;5;28;01mif\u001b[39;00m \u001b[38;5;28misinstance\u001b[39m(content_or_path, \u001b[38;5;28mbytes\u001b[39m):\n\u001b[1;32m   1400\u001b[0m     content_or_path \u001b[38;5;241m=\u001b[39m BytesIO(content_or_path)\n\u001b[0;32m-> 1402\u001b[0m \u001b[38;5;28;01mwith\u001b[39;00m \u001b[43mget_handle\u001b[49m\u001b[43m(\u001b[49m\n\u001b[1;32m   1403\u001b[0m \u001b[43m    \u001b[49m\u001b[43mcontent_or_path\u001b[49m\u001b[43m,\u001b[49m\u001b[43m \u001b[49m\u001b[38;5;124;43m\"\u001b[39;49m\u001b[38;5;124;43mrb\u001b[39;49m\u001b[38;5;124;43m\"\u001b[39;49m\u001b[43m,\u001b[49m\u001b[43m \u001b[49m\u001b[43mstorage_options\u001b[49m\u001b[38;5;241;43m=\u001b[39;49m\u001b[43mstorage_options\u001b[49m\u001b[43m,\u001b[49m\u001b[43m \u001b[49m\u001b[43mis_text\u001b[49m\u001b[38;5;241;43m=\u001b[39;49m\u001b[38;5;28;43;01mFalse\u001b[39;49;00m\n\u001b[1;32m   1404\u001b[0m \u001b[43m\u001b[49m\u001b[43m)\u001b[49m \u001b[38;5;28;01mas\u001b[39;00m handle:\n\u001b[1;32m   1405\u001b[0m     stream \u001b[38;5;241m=\u001b[39m handle\u001b[38;5;241m.\u001b[39mhandle\n\u001b[1;32m   1406\u001b[0m     stream\u001b[38;5;241m.\u001b[39mseek(\u001b[38;5;241m0\u001b[39m)\n",
      "File \u001b[0;32m/usr/local/lib/python3.11/site-packages/pandas/io/common.py:882\u001b[0m, in \u001b[0;36mget_handle\u001b[0;34m(path_or_buf, mode, encoding, compression, memory_map, is_text, errors, storage_options)\u001b[0m\n\u001b[1;32m    873\u001b[0m         handle \u001b[38;5;241m=\u001b[39m \u001b[38;5;28mopen\u001b[39m(\n\u001b[1;32m    874\u001b[0m             handle,\n\u001b[1;32m    875\u001b[0m             ioargs\u001b[38;5;241m.\u001b[39mmode,\n\u001b[0;32m   (...)\u001b[0m\n\u001b[1;32m    878\u001b[0m             newline\u001b[38;5;241m=\u001b[39m\u001b[38;5;124m\"\u001b[39m\u001b[38;5;124m\"\u001b[39m,\n\u001b[1;32m    879\u001b[0m         )\n\u001b[1;32m    880\u001b[0m     \u001b[38;5;28;01melse\u001b[39;00m:\n\u001b[1;32m    881\u001b[0m         \u001b[38;5;66;03m# Binary mode\u001b[39;00m\n\u001b[0;32m--> 882\u001b[0m         handle \u001b[38;5;241m=\u001b[39m \u001b[38;5;28;43mopen\u001b[39;49m\u001b[43m(\u001b[49m\u001b[43mhandle\u001b[49m\u001b[43m,\u001b[49m\u001b[43m \u001b[49m\u001b[43mioargs\u001b[49m\u001b[38;5;241;43m.\u001b[39;49m\u001b[43mmode\u001b[49m\u001b[43m)\u001b[49m\n\u001b[1;32m    883\u001b[0m     handles\u001b[38;5;241m.\u001b[39mappend(handle)\n\u001b[1;32m    885\u001b[0m \u001b[38;5;66;03m# Convert BytesIO or file objects passed with an encoding\u001b[39;00m\n",
      "\u001b[0;31mFileNotFoundError\u001b[0m: [Errno 2] No such file or directory: 'workspace/Data/smartphone_dealer_data.xlsx'"
     ]
    }
   ],
   "source": [
    "# Pfad zur .xlsx Datei\n",
    "path = 'workspace/Data/smartphone_dealer_data.xlsx'\n",
    "\n",
    "# Einlesen der Daten aus Excel File\n",
    "df_phones = pd.read_excel(path, sheet_name='Phones')\n",
    "df_customers = pd.read_excel(path, sheet_name='Customers')\n",
    "df_sales = pd.read_excel(path, sheet_name='Sales')\n",
    "df_salespersons = pd.read_excel(path, sheet_name='SalesPersons')\n",
    "df_technicians = pd.read_excel(path, sheet_name='Technicians')\n",
    "df_servicerecords = pd.read_excel(path, sheet_name='ServiceRecords')\n",
    "\n",
    "# Anpassen der Spaltennamen zu 'lowercase'\n",
    "df_phones.columns = df_phones.columns.str.lower()\n",
    "df_customers.columns = df_customers.columns.str.lower()\n",
    "df_sales.columns = df_sales.columns.str.lower()\n",
    "df_salespersons.columns = df_salespersons.columns.str.lower()\n",
    "df_technicians.columns = df_technicians.columns.str.lower()\n",
    "df_servicerecords.columns = df_servicerecords.columns.str.lower()\n"
   ]
  },
  {
   "cell_type": "markdown",
   "id": "66164662",
   "metadata": {},
   "source": [
    "#### <b>4.) Schreiben Sie die erstellten DataFrames in separate Tabellen in Ihrer Datenbank.</b>"
   ]
  },
  {
   "cell_type": "code",
   "execution_count": 4,
   "id": "cfd07b2d-1b23-4c93-b3f9-ccc3dcc73c31",
   "metadata": {},
   "outputs": [],
   "source": [
    "# Engine für Datenbankverbindung erstellen\n",
    "engine = create_engine(db_connection_url)\n",
    "\n",
    "# Schreiben der DataFrames in die Datenbank\n",
    "df_phones.to_sql('phones', engine, if_exists='replace', index=False)\n",
    "df_customers.to_sql('customers', engine, if_exists='replace', index=False)\n",
    "df_sales.to_sql('sales', engine, if_exists='replace', index=False)\n",
    "df_salespersons.to_sql('salespersons', engine, if_exists='replace', index=False)\n",
    "df_technicians.to_sql('technicians', engine, if_exists='replace', index=False)\n",
    "df_servicerecords.to_sql('servicerecords', engine, if_exists='replace', index=False)\n",
    "\n",
    "# Datenbankverbindung trennen\n",
    "engine.dispose()"
   ]
  },
  {
   "cell_type": "markdown",
   "id": "4f6fa711",
   "metadata": {},
   "source": [
    "<div style=\"background-color: #F0EAD6;\">\n",
    "\n",
    "#### <b> Hinweis! \n",
    "\n",
    "#### Falls etwas mit Ihrer PostgreSQL Verbindung nicht funktionieren sollte, verwenden Sie für die folgenden Aufgaben die SQLite Datenbank 'smartphone_dealer_data.db'. Sie finden diese auf Moodle in der Woche 4 im Order 'AP01'. Schieben (per drag and drop) Sie dazu die SQLite-Datenbank von Ihrem lokalen PC in Ihre GitHub Codespaces Environment.</b>\n",
    "\n",
    "#### <b> Das folgende Python-Codebeispiel demonstriert den Verbindungsaufbau mit der SQLite Datenbank mit Hilfe von Python.</b>\n",
    "\n",
    "```python\n",
    "# Engine für Datenbankverbindung erstellen\n",
    "engine = create_engine('sqlite:///workspace/smartphone_dealer_data.db')\n",
    "\n",
    "# SQL Abfrage\n",
    "df_sub = pd.read_sql_query(\"\"\"SELECT *\n",
    "                              FROM phones;\"\"\",\n",
    "                          con=engine)\n",
    "\n",
    "# Schliessen der Datenbankverbindung\n",
    "engine.dispose()\n",
    "\n",
    "df_sub \n",
    "```\n",
    "</div>"
   ]
  },
  {
   "cell_type": "markdown",
   "id": "d42c5152",
   "metadata": {},
   "source": [
    "## <b>Aufgaben (Hinweis: Dieser Teil wird bewertet)</b>\n",
    "<b style=\"color:blue;\">Hinweise zu den folgenden Aufgaben:</b>\n",
    "<ul style=\"color:blue;\">\n",
    "  <li>Erstellen Sie je Aufgabe eine SQL Abfrage und integrieren Sie diese in Ihren Python Code.</li>\n",
    "  <li>Speichern Sie je Aufgabe die Ergebnistabelle in einem DataFrame und stellen Sie diesen ganz oder in Teilen (z.B. erste 5 Zeilen) dar.</li>\n",
    "</ul>"
   ]
  },
  {
   "cell_type": "markdown",
   "id": "6033f466",
   "metadata": {},
   "source": [
    "#### <b>Aufgabe (1): Listen Sie alle Kunden auf, welche mit Vornamen John oder Sophia heissen.</b>\n",
    "<b>Details zur Aufgabenstellung:</b>\n",
    "- Sie finden die benötigte Informationen in der Tabelle 'Customers'.\n",
    "\n",
    "<b style=\"color: gray;\">(max. erreichbare Punkte: 4)</b>"
   ]
  },
  {
   "cell_type": "code",
   "execution_count": null,
   "id": "fdfcb555",
   "metadata": {},
   "outputs": [],
   "source": [
    "# Engine für Datenbankverbindung erstellen\n",
    "\n",
    "\n",
    "# Abfrage erstellen und Ergebnis in einem DataFrame speichern\n",
    "\n",
    "\n",
    "# Datenbankverbindung trennen\n",
    "\n",
    "\n",
    "# Ergebnis anzeigen\n"
   ]
  },
  {
   "cell_type": "markdown",
   "id": "c31d4887",
   "metadata": {},
   "source": [
    "#### <b>Aufgabe (2): Selektieren Sie die Telefone von \"Samsung\", und geben Sie deren Preise als Ganzzahlen (INTEGER) zurück.</b>\n",
    "<b>Details zur Aufgabenstellung:</b>\n",
    "- Sie finden die benötigten Informationen in der Tabelle 'Phones'.\n",
    "- Die Ergebnistabelle muss die Spalten: 'PhoneID',  'Brand' und den Price als Ganzzahl (INTEGER) enthalten.\n",
    "- Ordnen Sie die Tabelle absteigend nach Price als Ganzzahl (INTEGER).\n",
    "- Limitieren Sie die Anzahl der mit der SQL Abfrage zurückgegebenen Phones auf 10.\n",
    "\n",
    "<b style=\"color: gray;\">(max. erreichbare Punkte: 4)</b>"
   ]
  },
  {
   "cell_type": "code",
   "execution_count": null,
   "id": "93aad8fd",
   "metadata": {},
   "outputs": [],
   "source": [
    "# Engine für Datenbankverbindung erstellen\n",
    "\n",
    "\n",
    "# Abfrage erstellen und Ergebnis in einem DataFrame speichern\n",
    "\n",
    "\n",
    "# Datenbankverbindung trennen\n",
    "\n",
    "\n",
    "# Ergebnis anzeigen\n",
    "\n"
   ]
  },
  {
   "cell_type": "markdown",
   "id": "acc3fec8",
   "metadata": {},
   "source": [
    "#### <b>Aufgabe (3): Welches sind alle Telefonmodelle, die zwischen 2021 und 2023 auf den Markt kamen, einen IMEI-Wert haben und mehr als 800 USD kosten?</b>\n",
    "<b>Details zur Aufgabenstellung:</b>\n",
    "- Sie finden die benötigten Informationen in der Tabelle 'Phones'.\n",
    "- Ordnen Sie die Ergebnisse absteigend nach Price.\n",
    "\n",
    "<b style=\"color: gray;\">(max. erreichbare Punkte: 4)</b>"
   ]
  },
  {
   "cell_type": "code",
   "execution_count": null,
   "id": "ed99968e",
   "metadata": {},
   "outputs": [],
   "source": [
    "# Engine für Datenbankverbindung erstellen\n",
    "\n",
    "\n",
    "# Abfrage erstellen und Ergebnis in einem DataFrame speichern\n",
    "\n",
    "\n",
    "# Datenbankverbindung trennen\n",
    "\n",
    "\n",
    "# Ergebnis anzeigen\n"
   ]
  },
  {
   "cell_type": "markdown",
   "id": "b3e73a64",
   "metadata": {},
   "source": [
    "#### <b>Aufgabe (4): Ermitteln Sie alle Verkäufe, die von der Verkäuferin \"Diana Morris\" durchgeführt wurden.</b>\n",
    "<b>Details zur Aufgabenstellung:</b>\n",
    "- Geben Sie Verkaufspreis, Datum und die Namen der Kunden aus.\n",
    "- Sie finden die benötigten Informationen in den Tabellen 'Sales', 'SalesPersons' und 'Customers'.\n",
    "\n",
    "<b style=\"color: gray;\">(max. erreichbare Punkte: 4)</b>"
   ]
  },
  {
   "cell_type": "code",
   "execution_count": null,
   "id": "2e0f4a38",
   "metadata": {},
   "outputs": [],
   "source": [
    "# Engine für Datenbankverbindung erstellen\n",
    "\n",
    "\n",
    "# Abfrage erstellen und Ergebnis in einem DataFrame speichern\n",
    "\n",
    "\n",
    "# Datenbankverbindung trennen\n",
    "\n",
    "\n",
    "# Ergebnis anzeigen\n"
   ]
  },
  {
   "cell_type": "markdown",
   "id": "9b9f6653",
   "metadata": {},
   "source": [
    "#### <b>Aufgabe (5): Ermitteln Sie die Namen der Kunden und die Modelle der Telefone, welche diese gekauft haben, aber nur die Verkäufe über 600 USD.</b>\n",
    "<b>Details zur Aufgabenstellung:</b>\n",
    "- Sie finden die benötigten Informationen in den Tabellen 'Sales', 'Customers' und 'Phones'.\n",
    "- Ordnen Sie die Tabelle absteigend nach SaleDate.\n",
    "\n",
    "<b style=\"color: gray;\">(max. erreichbare Punkte: 4)</b>"
   ]
  },
  {
   "cell_type": "code",
   "execution_count": null,
   "id": "7b872a93",
   "metadata": {},
   "outputs": [],
   "source": [
    "# Engine für Datenbankverbindung erstellen\n",
    "\n",
    "\n",
    "# Abfrage erstellen und Ergebnis in einem DataFrame speichern\n",
    "\n",
    "\n",
    "# Datenbankverbindung trennen\n",
    "\n",
    "\n",
    "# Ergebnis anzeigen\n"
   ]
  },
  {
   "cell_type": "markdown",
   "id": "2b80dc61",
   "metadata": {},
   "source": [
    "#### <b>Aufgabe (6): Ermitteln Sie den durchschnittlichen Verkaufspreis und die Anzahl der Verkäufe für jeden Verkäufer, aber nur für Verkäufer, die mehr als 10 Verkäufe getätigt haben.</b>\n",
    "<b>Details zur Aufgabenstellung:</b>\n",
    "- Sie finden die benötigten Informationen in den Tabellen 'SalesPersons' und 'Sales'.\n",
    "- Ordnen Sie die Tabelle absteigend nach der Anzahl der Verkäufe.\n",
    "\n",
    "<b style=\"color: gray;\">(max. erreichbare Punkte: 8)</b>"
   ]
  },
  {
   "cell_type": "code",
   "execution_count": null,
   "id": "077a187d-05be-4c30-a367-a4e1a19d4466",
   "metadata": {},
   "outputs": [],
   "source": [
    "# Engine für Datenbankverbindung erstellen\n",
    "\n",
    "\n",
    "# Abfrage erstellen und Ergebnis in einem DataFrame speichern\n",
    "\n",
    "\n",
    "# Datenbankverbindung trennen\n",
    "\n",
    "\n",
    "# Ergebnis anzeigen\n"
   ]
  },
  {
   "cell_type": "markdown",
   "id": "08bd20f4",
   "metadata": {},
   "source": [
    "#### <b>Aufgabe (7): Ermitteln Sie die Anzahl der Reparaturen, die von jedem Techniker durchgeführt wurden.</b>\n",
    "<b>Details zur Aufgabenstellung:</b>\n",
    "- Sie finden die benötigten Informationen in den Tabellen 'Technicians' und 'ServiceRecords'.\n",
    "- Geben Sie den Vornamen und Nachnamen des Technikers sowie die Anzahl der Reparaturen an.\n",
    "- Ordnen Sie die Ergebnistabelle absteigend nach Anzahl der Reparaturen.\n",
    "\n",
    "<b style=\"color: gray;\">(max. erreichbare Punkte: 8)</b>"
   ]
  },
  {
   "cell_type": "code",
   "execution_count": null,
   "id": "504ca399",
   "metadata": {},
   "outputs": [],
   "source": [
    "# Engine für Datenbankverbindung erstellen\n",
    "\n",
    "\n",
    "# Abfrage erstellen und Ergebnis in einem DataFrame speichern\n",
    "\n",
    "\n",
    "# Datenbankverbindung trennen\n",
    "\n",
    "\n",
    "# Ergebnis anzeigen\n"
   ]
  },
  {
   "cell_type": "markdown",
   "id": "f15dbd26",
   "metadata": {},
   "source": [
    "#### <b>Aufgabe (8): Ermitteln Sie die Anzahl der Verkäufe pro Verkäufer und den durchschnittlichen Verkaufspreis pro Verkäufer.</b>\n",
    "<b>Details zur Aufgabenstellung: </b>\n",
    "- Sie finden die benötigten Informationen in den Tabellen 'SalesPersons' und 'Sales'.\n",
    "- Verwenden Sie nur Verkäufe, deren Verkaufspreis über 500 USD liegt.\n",
    "- Runden Sie den durchschnittlichen Verkaufspreis auf zwei Nachkommastellen.\n",
    "- Sortieren Sie die Ergebnisse nach der Anzahl der Verkäufe und zeigen Sie nur die Top 5 Verkäufer an.\n",
    "\n",
    "<b style=\"color: gray;\">(max. erreichbare Punkte: 8)</b>"
   ]
  },
  {
   "cell_type": "code",
   "execution_count": null,
   "id": "f26ae981",
   "metadata": {},
   "outputs": [],
   "source": [
    "# Engine für Datenbankverbindung erstellen\n",
    "\n",
    "\n",
    "# Abfrage erstellen und Ergebnis in einem DataFrame speichern\n",
    "\n",
    "\n",
    "# Datenbankverbindung trennen\n",
    "\n",
    "\n",
    "# Ergebnis anzeigen\n"
   ]
  },
  {
   "attachments": {},
   "cell_type": "markdown",
   "id": "ff525b1e",
   "metadata": {},
   "source": [
    "### Jupyter notebook --footer info-- (please always provide this at the end of each notebook)"
   ]
  },
  {
   "cell_type": "code",
   "execution_count": null,
   "id": "e6cae5b2",
   "metadata": {},
   "outputs": [],
   "source": [
    "import os\n",
    "import platform\n",
    "import socket\n",
    "from platform import python_version\n",
    "from datetime import datetime\n",
    "\n",
    "print('-----------------------------------')\n",
    "print(os.name.upper())\n",
    "print(platform.system(), '|', platform.release())\n",
    "print('Datetime:', datetime.now().strftime(\"%Y-%m-%d %H:%M:%S\"))\n",
    "print('Python Version:', python_version())\n",
    "print('IP Address:', socket.gethostbyname(socket.gethostname()))\n",
    "print('-----------------------------------')"
   ]
  }
 ],
 "metadata": {
  "kernelspec": {
   "display_name": "Python 3",
   "language": "python",
   "name": "python3"
  },
  "language_info": {
   "codemirror_mode": {
    "name": "ipython",
    "version": 3
   },
   "file_extension": ".py",
   "mimetype": "text/x-python",
   "name": "python",
   "nbconvert_exporter": "python",
   "pygments_lexer": "ipython3",
   "version": "3.11.10"
  }
 },
 "nbformat": 4,
 "nbformat_minor": 5
}
